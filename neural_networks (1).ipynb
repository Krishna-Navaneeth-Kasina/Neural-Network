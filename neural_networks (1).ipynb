{
 "cells": [
  {
   "cell_type": "markdown",
   "id": "192247e6-2015-413e-9899-d50c27da8fc2",
   "metadata": {},
   "source": [
    "IMPLEMENTATION OF NEURAL NETWORK FROM SCRATCH USING NUMPY"
   ]
  },
  {
   "cell_type": "code",
   "execution_count": 4,
   "id": "4b2f929a-cae2-4ce5-adfc-3d0f5d422129",
   "metadata": {},
   "outputs": [],
   "source": [
    "#data set\n",
    "\n",
    "#A\n",
    "a = [0, 0, 1, 1, 0, 0,\n",
    "     0, 1, 0, 0, 1, 0,\n",
    "     1, 1, 1, 1, 1, 1,\n",
    "     1, 0, 0, 0, 0, 1,\n",
    "     1, 0, 0, 0, 0, 1]\n",
    "#B\n",
    "b = [0, 1, 1, 1, 1, 0,\n",
    "     0, 1, 0, 0, 1, 0,\n",
    "     0, 1, 1, 1, 1, 0,\n",
    "     0, 1, 0, 0, 1, 0,\n",
    "     0, 1, 1, 1, 1, 0]\n",
    "#C\n",
    "c = [0, 1, 1, 1, 1, 0,\n",
    "     0, 1, 0, 0, 0, 0,\n",
    "     0, 1, 0, 0, 0, 0,\n",
    "     0, 1, 0, 0, 0, 0,\n",
    "     0, 1, 1, 1, 1, 0]"
   ]
  },
  {
   "cell_type": "code",
   "execution_count": 5,
   "id": "ec89dad8-8c1b-4a80-abf9-0e4ca6481dbb",
   "metadata": {},
   "outputs": [],
   "source": [
    "#creating labels\n",
    "y=[[1,0,0],\n",
    "   [0,1,0],\n",
    "   [0,0,1]]"
   ]
  },
  {
   "cell_type": "code",
   "execution_count": 6,
   "id": "d72a3cee-8218-4dbd-aebf-60ce146da89a",
   "metadata": {},
   "outputs": [],
   "source": [
    "import numpy as np\n",
    "import matplotlib.pyplot as plt"
   ]
  },
  {
   "cell_type": "code",
   "execution_count": 7,
   "id": "86cf8ef4-7b7c-4821-a170-cab0c17bdbbe",
   "metadata": {},
   "outputs": [
    {
     "data": {
      "image/png": "[encoded data removed]",
      "text/plain": [
       "<Figure size 640x480 with 1 Axes>"
      ]
     },
     "metadata": {},
     "output_type": "display_data"
    }
   ],
   "source": [
    "#visulatize the data\n",
    "plt.imshow(np.array(a).reshape(5,6))\n",
    "plt.show()"
   ]
  },
  {
   "cell_type": "code",
   "execution_count": 58,
   "id": "26583439-47d5-4d25-a9a5-6c523a996b3f",
   "metadata": {},
   "outputs": [
    {
     "name": "stdout",
     "output_type": "stream",
     "text": [
      "[array([[0, 0, 1, 1, 0, 0, 0, 1, 0, 0, 1, 0, 1, 1, 1, 1, 1, 1, 1, 0, 0, 0,\n",
      "        0, 1, 1, 0, 0, 0, 0, 1]]), array([[0, 1, 1, 1, 1, 0, 0, 1, 0, 0, 1, 0, 0, 1, 1, 1, 1, 0, 0, 1, 0, 0,\n",
      "        1, 0, 0, 1, 1, 1, 1, 0]]), array([[0, 1, 1, 1, 1, 0, 0, 1, 0, 0, 0, 0, 0, 1, 0, 0, 0, 0, 0, 1, 0, 0,\n",
      "        0, 0, 0, 1, 1, 1, 1, 0]])] \n",
      "\n",
      " [[1 0 0]\n",
      " [0 1 0]\n",
      " [0 0 1]]\n"
     ]
    }
   ],
   "source": [
    "#convert data and labels into numpy array\n",
    "x = [np.array(a).reshape(1,30), np.array(b).reshape(1,30), np.array(c).reshape(1,30)]\n",
    "\n",
    "y = np.array(y)\n",
    "\n",
    "print(x, \"\\n\\n\", y)"
   ]
  },
  {
   "cell_type": "code",
   "execution_count": 9,
   "id": "12347a44-340f-4918-a2ea-deb07bdf6ef9",
   "metadata": {},
   "outputs": [],
   "source": [
    "#input (1,30)\n",
    "#hidden(1,5)\n",
    "#output(3,3)"
   ]
  },
  {
   "cell_type": "code",
   "execution_count": 11,
   "id": "d81471f3-795a-4bf2-893e-9a79bb6ac465",
   "metadata": {},
   "outputs": [],
   "source": [
    "#activation function\n",
    "\n",
    "def sigmoid(x):\n",
    "    return (1/(1+np.exp(-x)))"
   ]
  },
  {
   "cell_type": "code",
   "execution_count": 12,
   "id": "37f51e7e-dfe0-4858-b45e-4fecb129ff3a",
   "metadata": {},
   "outputs": [],
   "source": [
    "#creating feed forward NN\n",
    "\n",
    "def f_forward(x, w1, w2):\n",
    "    #hidden layer\n",
    "    z1 = x.dot(w1)\n",
    "    a1 = sigmoid(z1)\n",
    "\n",
    "    #output layer\n",
    "    z2 = a1.dot(w2)\n",
    "    a2 = sigmoid(z2)\n",
    "    return(a2)"
   ]
  },
  {
   "cell_type": "code",
   "execution_count": 31,
   "id": "51960c6f-6ccf-49da-a09c-a10b3a507085",
   "metadata": {},
   "outputs": [],
   "source": [
    "#initialize the weights\n",
    "\n",
    "def generate_wt(x,y):\n",
    "    l = []\n",
    "    for i in range(x*y):\n",
    "        l.append(np.random.randn())\n",
    "    return(np.array(l).reshape(x,y))"
   ]
  },
  {
   "cell_type": "code",
   "execution_count": 32,
   "id": "f7a3b826-8516-4a82-9984-94fdb54e6b65",
   "metadata": {},
   "outputs": [],
   "source": [
    "def loss(out, Y):\n",
    "    s = (np.square(out-Y))\n",
    "    s = np.sum(s)/len(y)\n",
    "    return(s)"
   ]
  },
  {
   "cell_type": "code",
   "execution_count": 65,
   "id": "5fefb3d2-7a81-4779-9052-b3fe46323a5c",
   "metadata": {},
   "outputs": [],
   "source": [
    "#back propagation\n",
    "\n",
    "def back_prop(x,y,w1,w2,alpha):\n",
    "\n",
    "    #hidden\n",
    "    z1 = x.dot(w1)\n",
    "    a1 = sigmoid(z1)\n",
    "\n",
    "    #output layer\n",
    "    z2 = a1.dot(w2)\n",
    "    a2 = sigmoid(z2)\n",
    "\n",
    "    d2 = (a2-y)\n",
    "    d1 = np.multiply(w2.dot(d2.transpose()).transpose(), np.multiply(a1, 1 - a1))\n",
    "\n",
    "    #gradient\n",
    "    w1_adj = x.transpose().dot(d1)\n",
    "    w2_adj = a1.transpose().dot(d2)\n",
    "\n",
    "    w1 = w1 -(alpha*(w1_adj))\n",
    "    w2 = w2-(alpha*(w2_adj))\n",
    "\n",
    "    return (w1,w2)"
   ]
  },
  {
   "cell_type": "code",
   "execution_count": 52,
   "id": "365ca94e-bc76-4d8b-b2b9-fe3615240e43",
   "metadata": {},
   "outputs": [],
   "source": [
    "def train(X, Y, w1, w2, alpha=0.01, epoch=10):\n",
    "    acc = []\n",
    "    loss_values = []\n",
    "    for j in range(epoch):\n",
    "        l = []\n",
    "        for i in range(len(X)):\n",
    "            out = f_forward(X[i], w1, w2)\n",
    "            l.append(loss(out, Y[i]))\n",
    "            w1, w2 = back_prop(X[i], Y[i], w1, w2, alpha)\n",
    "        print(\"Epochs:\", j+1, \"acc:\", (1 - (sum(l) / len(X))) * 100)\n",
    "        acc.append(1 - (sum(l) / len(X)) * 100)\n",
    "        loss_values.append(sum(l) / len(X))\n",
    "    return acc, loss_values, w1, w2"
   ]
  },
  {
   "cell_type": "code",
   "execution_count": 55,
   "id": "2b1fa3ae-23ae-49cc-b61a-b74c3c7df443",
   "metadata": {},
   "outputs": [],
   "source": [
    "def predict(x, w1, w2):\n",
    "    out = f_forward(x, w1, w2)\n",
    "    maxm = 0\n",
    "    k = 0\n",
    "    for i in range(len(out[0])):\n",
    "        if maxm < out[0][i]:\n",
    "            maxm = out[0][i]\n",
    "            k = i\n",
    "    if k == 0:\n",
    "        print(\"Image is of letter A\")\n",
    "    elif k == 1:\n",
    "        print(\"Image is of letter B\")\n",
    "    else:\n",
    "        print(\"Image is of letter C\")\n",
    "    plt.imshow(x.reshape(5, 6))\n",
    "    plt.show()"
   ]
  },
  {
   "cell_type": "code",
   "execution_count": 56,
   "id": "e669a309-967e-4673-a36d-fbd1b73ae697",
   "metadata": {},
   "outputs": [
    {
     "name": "stdout",
     "output_type": "stream",
     "text": [
      "[[-0.74632193  0.30177978  0.73848853  0.81179594  0.18660128]\n",
      " [-0.68104895 -0.49873718 -1.66571049  0.66057129  1.48362629]\n",
      " [ 0.80966401  2.31087153  0.44739082 -0.04579245  0.07993201]\n",
      " [-0.03601122  2.03379789  0.32812528 -1.41751862 -0.88967365]\n",
      " [-0.13554243 -0.45140721  1.66949073 -0.43872579 -0.70652164]\n",
      " [ 0.08502426  0.0419471   0.34943669 -0.5053321   0.74739412]\n",
      " [-0.81067134 -1.03955656  0.53868358 -0.8263015   0.5470023 ]\n",
      " [-0.12522114  0.32072919 -0.68261535 -0.90997689  0.66529681]\n",
      " [ 0.99225169 -1.15420901 -0.2139767  -1.40240431 -0.55121232]\n",
      " [-0.65054457 -1.62352036 -2.81480972 -2.5045838   0.38897979]\n",
      " [ 0.53670206  1.69886645  0.76521366 -1.1633231  -0.72799142]\n",
      " [ 0.94780483  0.33657184  0.5490117   2.14802876  1.27172717]\n",
      " [ 0.33391211 -0.82015777 -0.96989946  1.02794038  0.51769392]\n",
      " [ 1.46194123  1.39667122 -0.81623603  0.38414718  0.07542257]\n",
      " [ 0.65620251  0.10959114 -1.01992909  0.04351363 -0.89938438]\n",
      " [-1.20520141  0.91866989 -0.96118462 -0.49788363  2.77488485]\n",
      " [-2.05249862  0.95257787  0.4483244  -0.33768499  1.08257051]\n",
      " [-0.8007519  -1.12453188 -1.73134959  0.00778348 -0.53255544]\n",
      " [-0.3043464  -0.85100882  0.51982868 -0.92991294  0.2522922 ]\n",
      " [ 0.15257406  1.65219625  0.35715272 -0.23469137 -0.51784839]\n",
      " [ 1.83985679  1.44812114 -1.12746086 -0.29804634 -1.01848098]\n",
      " [-0.65074722 -1.06246157  0.38418782 -0.6501332  -0.15206207]\n",
      " [-0.54748721  0.48775977 -0.65100863  0.09463912  0.45184687]\n",
      " [-0.71986566 -0.1983393  -1.57998772 -0.69460362 -1.38023585]\n",
      " [-0.57201171  1.35325627 -0.83781216 -0.54927784  0.04103325]\n",
      " [ 1.16435745 -0.61815926 -2.22901455  1.07867596  0.21646436]\n",
      " [-0.45338274  0.82087434  0.14365436 -0.22893774  0.76837862]\n",
      " [ 2.27591292 -0.2426455  -0.33828035  0.43680782  1.46288723]\n",
      " [-0.34608603 -0.07585406  0.19079991 -0.63010935 -0.72480227]\n",
      " [ 1.38254541  0.50641245  0.73470678 -1.11588511 -1.88186046]] \n",
      "| [[ 0.6375718   0.18646237 -1.97961089]\n",
      " [ 0.05759242 -0.50994625 -1.68810936]\n",
      " [ 0.27188156 -0.03026273  0.54208057]\n",
      " [-0.33884262  0.00755596  2.28552806]\n",
      " [-0.2625148  -0.43291433 -0.99399069]]\n"
     ]
    }
   ],
   "source": [
    "w1 = generate_wt(30,5)\n",
    "w2 = generate_wt(5,3)\n",
    "print(w1, \"\\n|\", w2)"
   ]
  },
  {
   "cell_type": "code",
   "execution_count": 66,
   "id": "6ed2b82c-0ce4-432c-b721-e90ee15497dc",
   "metadata": {},
   "outputs": [
    {
     "name": "stdout",
     "output_type": "stream",
     "text": [
      "Epochs: 1 acc: 71.01917215181726\n",
      "Epochs: 2 acc: 72.44314879184554\n",
      "Epochs: 3 acc: 73.82848829581307\n",
      "Epochs: 4 acc: 75.41104056015942\n",
      "Epochs: 5 acc: 77.15652096629006\n",
      "Epochs: 6 acc: 78.68800068074744\n",
      "Epochs: 7 acc: 79.8594898613558\n",
      "Epochs: 8 acc: 80.73784151986845\n",
      "Epochs: 9 acc: 81.41478779943088\n",
      "Epochs: 10 acc: 81.96149542887989\n",
      "Epochs: 11 acc: 82.42622591942599\n",
      "Epochs: 12 acc: 82.83956798552775\n",
      "Epochs: 13 acc: 83.21989656919638\n",
      "Epochs: 14 acc: 83.57765683179304\n",
      "Epochs: 15 acc: 83.91845784714293\n",
      "Epochs: 16 acc: 84.24519030744274\n",
      "Epochs: 17 acc: 84.55937526371156\n",
      "Epochs: 18 acc: 84.86193855026065\n",
      "Epochs: 19 acc: 85.15359778888964\n",
      "Epochs: 20 acc: 85.43502156026217\n",
      "Epochs: 21 acc: 85.70687470382371\n",
      "Epochs: 22 acc: 85.96981734305427\n",
      "Epochs: 23 acc: 86.22449100813007\n",
      "Epochs: 24 acc: 86.47150526136916\n",
      "Epochs: 25 acc: 86.7114286559473\n",
      "Epochs: 26 acc: 86.94478409485735\n",
      "Epochs: 27 acc: 87.17204756433644\n",
      "Epochs: 28 acc: 87.39364914108198\n",
      "Epochs: 29 acc: 87.60997539306584\n",
      "Epochs: 30 acc: 87.82137254424043\n",
      "Epochs: 31 acc: 88.0281499780435\n",
      "Epochs: 32 acc: 88.23058380437688\n",
      "Epochs: 33 acc: 88.42892031928682\n",
      "Epochs: 34 acc: 88.62337925779923\n",
      "Epochs: 35 acc: 88.81415678803626\n",
      "Epochs: 36 acc: 89.00142822603554\n",
      "Epochs: 37 acc: 89.18535047067667\n",
      "Epochs: 38 acc: 89.3660641703393\n",
      "Epochs: 39 acc: 89.54369563985314\n",
      "Epochs: 40 acc: 89.71835854969439\n",
      "Epochs: 41 acc: 89.89015541045589\n",
      "Epochs: 42 acc: 90.05917887522227\n",
      "Epochs: 43 acc: 90.22551288120772\n",
      "Epochs: 44 acc: 90.38923365026744\n",
      "Epochs: 45 acc: 90.55041056594318\n",
      "Epochs: 46 acc: 90.70910694272565\n",
      "Epochs: 47 acc: 90.86538070131984\n",
      "Epochs: 48 acc: 91.0192849619467\n",
      "Epochs: 49 acc: 91.17086856613702\n",
      "Epochs: 50 acc: 91.32017653607971\n",
      "Epochs: 51 acc: 91.46725047937542\n",
      "Epochs: 52 acc: 91.61212894600406\n",
      "Epochs: 53 acc: 91.7548477434255\n",
      "Epochs: 54 acc: 91.89544021498018\n",
      "Epochs: 55 acc: 92.03393748611845\n",
      "Epochs: 56 acc: 92.170368682451\n",
      "Epochs: 57 acc: 92.3047611231572\n",
      "Epochs: 58 acc: 92.43714049290112\n",
      "Epochs: 59 acc: 92.5675309950735\n",
      "Epochs: 60 acc: 92.69595548888864\n",
      "Epochs: 61 acc: 92.82243561261147\n",
      "Epochs: 62 acc: 92.9469918949615\n",
      "Epochs: 63 acc: 93.06964385653146\n",
      "Epochs: 64 acc: 93.19041010286509\n",
      "Epochs: 65 acc: 93.30930841065388\n",
      "Epochs: 66 acc: 93.42635580833765\n",
      "Epochs: 67 acc: 93.54156865222235\n",
      "Epochs: 68 acc: 93.65496269906448\n",
      "Epochs: 69 acc: 93.76655317590881\n",
      "Epochs: 70 acc: 93.87635484781072\n",
      "Epochs: 71 acc: 93.98438208392321\n",
      "Epochs: 72 acc: 94.09064892228498\n",
      "Epochs: 73 acc: 94.19516913351002\n",
      "Epochs: 74 acc: 94.29795628345437\n",
      "Epochs: 75 acc: 94.3990237948211\n",
      "Epochs: 76 acc: 94.49838500756569\n",
      "Epochs: 77 acc: 94.59605323787684\n",
      "Epochs: 78 acc: 94.69204183543948\n",
      "Epochs: 79 acc: 94.7863642386329\n",
      "Epochs: 80 acc: 94.87903402728067\n",
      "Epochs: 81 acc: 94.97006497254952\n",
      "Epochs: 82 acc: 95.05947108359038\n",
      "Epochs: 83 acc: 95.14726665052619\n",
      "Epochs: 84 acc: 95.23346628341584\n",
      "Epochs: 85 acc: 95.31808494686005\n",
      "Epochs: 86 acc: 95.40113798996225\n",
      "Epochs: 87 acc: 95.4826411714115\n",
      "Epochs: 88 acc: 95.56261067951574\n",
      "Epochs: 89 acc: 95.64106314707786\n",
      "Epochs: 90 acc: 95.71801566107332\n",
      "Epochs: 91 acc: 95.79348576715564\n",
      "Epochs: 92 acc: 95.86749146908001\n",
      "Epochs: 93 acc: 95.94005122319838\n",
      "Epochs: 94 acc: 96.01118392823749\n",
      "Epochs: 95 acc: 96.08090891062375\n",
      "Epochs: 96 acc: 96.14924590566626\n",
      "Epochs: 97 acc: 96.2162150349495\n",
      "Epochs: 98 acc: 96.28183678032019\n",
      "Epochs: 99 acc: 96.34613195487906\n",
      "Epochs: 100 acc: 96.4091216714059\n"
     ]
    }
   ],
   "source": [
    "acc, loss_values, w1, w2 = train(x, y, w1, w2, 0.1, 100)"
   ]
  },
  {
   "cell_type": "code",
   "execution_count": 68,
   "id": "398a30f7-02ee-407d-bde2-29cee85cbc40",
   "metadata": {},
   "outputs": [
    {
     "data": {
      "image/png": "[encoded data removed]",
      "text/plain": [
       "<Figure size 640x480 with 1 Axes>"
      ]
     },
     "metadata": {},
     "output_type": "display_data"
    }
   ],
   "source": [
    "import matplotlib.pyplot as plt1\n",
    "\n",
    "#plotting accuracy\n",
    "plt1.plot(acc)\n",
    "plt.ylabel('Accuracy')\n",
    "plt.xlabel('Epochs')\n",
    "plt1.show()"
   ]
  },
  {
   "cell_type": "code",
   "execution_count": 73,
   "id": "629684d6-ca12-44a9-89ab-d874968957cc",
   "metadata": {},
   "outputs": [
    {
     "data": {
      "image/png": "[encoded data removed]",
      "text/plain": [
       "<Figure size 640x480 with 1 Axes>"
      ]
     },
     "metadata": {},
     "output_type": "display_data"
    }
   ],
   "source": [
    "#plot loss\n",
    "\n",
    "plt1.plot(loss_values)\n",
    "plt.ylabel('Loss')\n",
    "plt.xlabel('Epochs')\n",
    "plt1.show()"
   ]
  },
  {
   "cell_type": "code",
   "execution_count": 74,
   "id": "e36cc19a-568d-433a-ad8f-e94da46c67eb",
   "metadata": {},
   "outputs": [
    {
     "name": "stdout",
     "output_type": "stream",
     "text": [
      "[[-0.74632193  0.30177978  0.73848853  0.81179594  0.18660128]\n",
      " [-0.65783837 -0.50029426 -1.45030898  1.05958225  1.46316663]\n",
      " [ 1.08292455  2.31012577  0.66443745  0.33935702 -0.25793193]\n",
      " [ 0.23724931  2.03305213  0.54517191 -1.03236916 -1.22753759]\n",
      " [-0.11233184 -0.45296428  1.88489225 -0.03971482 -0.7269813 ]\n",
      " [ 0.08502426  0.0419471   0.34943669 -0.5053321   0.74739412]\n",
      " [-0.81067134 -1.03955656  0.53868358 -0.8263015   0.5470023 ]\n",
      " [ 0.14803939  0.31998343 -0.46556872 -0.52482742  0.32743288]\n",
      " [ 0.99225169 -1.15420901 -0.2139767  -1.40240431 -0.55121232]\n",
      " [-0.65054457 -1.62352036 -2.81480972 -2.5045838   0.38897979]\n",
      " [ 0.85987423  1.6996028   0.66413475 -1.93676034 -0.76045818]\n",
      " [ 0.94780483  0.33657184  0.5490117   2.14802876  1.27172717]\n",
      " [ 0.58396206 -0.81934646 -0.96825435  1.01407888  0.20028965]\n",
      " [ 1.73520176  1.39592546 -0.5991894   0.76929664 -0.26244137]\n",
      " [ 0.97937468  0.11032748 -1.121008   -0.7299236  -0.93185114]\n",
      " [-0.88202923  0.91940623 -1.06226353 -1.27132086  2.74241809]\n",
      " [-1.72932644  0.95331422  0.34724549 -1.11112223  1.05010375]\n",
      " [-0.55070195 -1.12372057 -1.72970448 -0.00607802 -0.84995971]\n",
      " [-0.05429645 -0.85019751  0.52147379 -0.94377444 -0.06511207]\n",
      " [ 0.17578465  1.65063918  0.57255424  0.16431959 -0.53830805]\n",
      " [ 1.83985679  1.44812114 -1.12746086 -0.29804634 -1.01848098]\n",
      " [-0.65074722 -1.06246157  0.38418782 -0.6501332  -0.15206207]\n",
      " [-0.47436498  0.48768481 -0.75373265 -0.66493661  0.73678439]\n",
      " [-0.46981571 -0.19752799 -1.57834261 -0.70846512 -1.69764012]\n",
      " [-0.32196176  1.35406758 -0.83616704 -0.56313934 -0.27637103]\n",
      " [ 1.18756803 -0.61971633 -2.01361303  1.47768692  0.1960047 ]\n",
      " [-0.43017215  0.81931727  0.35905587  0.17007323  0.74791896]\n",
      " [ 2.2991235  -0.24420258 -0.12287884  0.83581879  1.44242757]\n",
      " [-0.32287545 -0.07741114  0.40620143 -0.23109838 -0.74526193]\n",
      " [ 1.63259536  0.50722377  0.73635189 -1.12974661 -2.19926474]] \n",
      " [[ 0.51962416 -0.17755906 -1.29127699]\n",
      " [ 0.59722077 -1.16703602 -1.24087881]\n",
      " [-0.01432172 -0.36275822  0.93109297]\n",
      " [-1.92857457 -1.55566042  4.4604718 ]\n",
      " [-2.9809847   2.2202466  -0.1879832 ]]\n"
     ]
    }
   ],
   "source": [
    "print(w1, '\\n',w2)"
   ]
  },
  {
   "cell_type": "code",
   "execution_count": 75,
   "id": "a44b24fc-90e8-473e-bda0-39816b2fb108",
   "metadata": {},
   "outputs": [
    {
     "name": "stdout",
     "output_type": "stream",
     "text": [
      "Image is of letter C\n"
     ]
    },
    {
     "data": {
      "image/png": "[encoded data removed]",
      "text/plain": [
       "<Figure size 640x480 with 1 Axes>"
      ]
     },
     "metadata": {},
     "output_type": "display_data"
    }
   ],
   "source": [
    "predict(x[2],w1,w2)"
   ]
  },
  {
   "cell_type": "code",
   "execution_count": 76,
   "id": "6eff88bd-7fa0-493d-8c2a-966cf63e9bf2",
   "metadata": {},
   "outputs": [
    {
     "name": "stdout",
     "output_type": "stream",
     "text": [
      "Image is of letter B\n"
     ]
    },
    {
     "data": {
      "image/png": "[encoded data removed]",
      "text/plain": [
       "<Figure size 640x480 with 1 Axes>"
      ]
     },
     "metadata": {},
     "output_type": "display_data"
    }
   ],
   "source": [
    "predict(x[1],w1,w2)"
   ]
  },
  {
   "cell_type": "code",
   "execution_count": 77,
   "id": "e36dd1df-ca37-4121-ab3c-d5913988076d",
   "metadata": {},
   "outputs": [
    {
     "name": "stdout",
     "output_type": "stream",
     "text": [
      "Image is of letter A\n"
     ]
    },
    {
     "data": {
      "image/png": "[encoded data removed]",
      "text/plain": [
       "<Figure size 640x480 with 1 Axes>"
      ]
     },
     "metadata": {},
     "output_type": "display_data"
    }
   ],
   "source": [
    "predict(x[0],w1,w2)"
   ]
  }
 ],
 "metadata": {
  "kernelspec": {
   "display_name": "Python 3 (ipykernel)",
   "language": "python",
   "name": "python3"
  },
  "language_info": {
   "codemirror_mode": {
    "name": "ipython",
    "version": 3
   },
   "file_extension": ".py",
   "mimetype": "text/x-python",
   "name": "python",
   "nbconvert_exporter": "python",
   "pygments_lexer": "ipython3",
   "version": "3.12.3"
  }
 },
 "nbformat": 4,
 "nbformat_minor": 5
}
